{
 "cells": [
  {
   "cell_type": "code",
   "execution_count": 8,
   "metadata": {},
   "outputs": [],
   "source": [
    "import sys, os\n",
    "import json"
   ]
  },
  {
   "cell_type": "code",
   "execution_count": 60,
   "metadata": {},
   "outputs": [
    {
     "data": {
      "text/plain": [
       "{'cells': [{'cell_type': 'code',\n",
       "   'execution_count': 8,\n",
       "   'metadata': {},\n",
       "   'outputs': [],\n",
       "   'source': ['import sys, os\\n', 'import json']},\n",
       "  {'cell_type': 'code',\n",
       "   'execution_count': 6,\n",
       "   'metadata': {},\n",
       "   'outputs': [{'name': 'stdout',\n",
       "     'output_type': 'stream',\n",
       "     'text': ['/Users/jeonl/PycharmProjects/JupyterTest/circleci_integration_example/data_import/flow_step_1\\n']}],\n",
       "   'source': ['print(os.getcwd())']},\n",
       "  {'cell_type': 'code',\n",
       "   'execution_count': 3,\n",
       "   'metadata': {},\n",
       "   'outputs': [{'name': 'stdout',\n",
       "     'output_type': 'stream',\n",
       "     'text': ['total 32\\n',\n",
       "      'drwxr-xr-x  6 jeonl  staff   192 Nov  6 12:35 .\\n',\n",
       "      'drwxr-xr-x  4 jeonl  staff   128 Nov  6 12:20 ..\\n',\n",
       "      'drwxr-xr-x  4 jeonl  staff   128 Nov  6 12:26 .ipynb_checkpoints\\n',\n",
       "      '-rw-r--r--  1 jeonl  staff  1452 Nov  6 12:35 convert_test.ipynb\\n',\n",
       "      '-rw-r--r--  1 jeonl  staff    73 Nov  6 12:20 run.py\\n',\n",
       "      '-rw-r--r--  1 jeonl  staff  4628 Nov  6 12:35 step1.ipynb\\n']}],\n",
       "   'source': ['%%bash\\n', 'ls -al']},\n",
       "  {'cell_type': 'code',\n",
       "   'execution_count': None,\n",
       "   'metadata': {},\n",
       "   'outputs': [],\n",
       "   'source': []},\n",
       "  {'cell_type': 'code',\n",
       "   'execution_count': None,\n",
       "   'metadata': {},\n",
       "   'outputs': [],\n",
       "   'source': []}],\n",
       " 'metadata': {'kernelspec': {'display_name': 'Python 3',\n",
       "   'language': 'python',\n",
       "   'name': 'python3'},\n",
       "  'language_info': {'codemirror_mode': {'name': 'ipython', 'version': 3},\n",
       "   'file_extension': '.py',\n",
       "   'mimetype': 'text/x-python',\n",
       "   'name': 'python',\n",
       "   'nbconvert_exporter': 'python',\n",
       "   'pygments_lexer': 'ipython3',\n",
       "   'version': '3.9.0'}},\n",
       " 'nbformat': 4,\n",
       " 'nbformat_minor': 4}"
      ]
     },
     "execution_count": 60,
     "metadata": {},
     "output_type": "execute_result"
    }
   ],
   "source": [
    "with open('convert_test.ipynb', 'r+') as json_file:\n",
    "    ipy_json = json.load(json_file)\n",
    "\n",
    "ipy_json"
   ]
  },
  {
   "cell_type": "code",
   "execution_count": 62,
   "metadata": {},
   "outputs": [
    {
     "data": {
      "text/plain": [
       "{'cells': [{'cell_type': 'code',\n",
       "   'execution_count': 8,\n",
       "   'metadata': {},\n",
       "   'outputs': [],\n",
       "   'source': ['import sys, os\\n', 'import json']},\n",
       "  {'cell_type': 'code',\n",
       "   'execution_count': 6,\n",
       "   'metadata': {},\n",
       "   'outputs': [{'name': 'stdout',\n",
       "     'output_type': 'stream',\n",
       "     'text': ['/Users/jeonl/PycharmProjects/JupyterTest/circleci_integration_example/data_import/flow_step_1\\n']}],\n",
       "   'source': ['print(os.getcwd())']},\n",
       "  {'cell_type': 'code',\n",
       "   'execution_count': 3,\n",
       "   'metadata': {},\n",
       "   'outputs': [{'name': 'stdout',\n",
       "     'output_type': 'stream',\n",
       "     'text': ['total 32\\n',\n",
       "      'drwxr-xr-x  6 jeonl  staff   192 Nov  6 12:35 .\\n',\n",
       "      'drwxr-xr-x  4 jeonl  staff   128 Nov  6 12:20 ..\\n',\n",
       "      'drwxr-xr-x  4 jeonl  staff   128 Nov  6 12:26 .ipynb_checkpoints\\n',\n",
       "      '-rw-r--r--  1 jeonl  staff  1452 Nov  6 12:35 convert_test.ipynb\\n',\n",
       "      '-rw-r--r--  1 jeonl  staff    73 Nov  6 12:20 run.py\\n',\n",
       "      '-rw-r--r--  1 jeonl  staff  4628 Nov  6 12:35 step1.ipynb\\n']}],\n",
       "   'source': ['# %%bash\\n', '# ls -al']},\n",
       "  {'cell_type': 'code',\n",
       "   'execution_count': None,\n",
       "   'metadata': {},\n",
       "   'outputs': [],\n",
       "   'source': []},\n",
       "  {'cell_type': 'code',\n",
       "   'execution_count': None,\n",
       "   'metadata': {},\n",
       "   'outputs': [],\n",
       "   'source': []}],\n",
       " 'metadata': {'kernelspec': {'display_name': 'Python 3',\n",
       "   'language': 'python',\n",
       "   'name': 'python3'},\n",
       "  'language_info': {'codemirror_mode': {'name': 'ipython', 'version': 3},\n",
       "   'file_extension': '.py',\n",
       "   'mimetype': 'text/x-python',\n",
       "   'name': 'python',\n",
       "   'nbconvert_exporter': 'python',\n",
       "   'pygments_lexer': 'ipython3',\n",
       "   'version': '3.9.0'}},\n",
       " 'nbformat': 4,\n",
       " 'nbformat_minor': 4}"
      ]
     },
     "execution_count": 62,
     "metadata": {},
     "output_type": "execute_result"
    }
   ],
   "source": [
    "SOURCE_KEY_NAME = 'source'\n",
    "\n",
    "for cell_item in ipy_json['cells']:\n",
    "    if SOURCE_KEY_NAME in cell_item:\n",
    "        source_list = cell_item[SOURCE_KEY_NAME]\n",
    "        \n",
    "        if len(source_list) > 0 and len(source_list[0]) > 0 and source_list[0][0] == '%':\n",
    "            source_list.extend(['# ' + x for x in source_list])\n",
    "            del source_list[:int(len(source_list)/2)]\n",
    "\n",
    "ipy_json"
   ]
  }
 ],
 "metadata": {
  "kernelspec": {
   "display_name": "Python 3",
   "language": "python",
   "name": "python3"
  },
  "language_info": {
   "codemirror_mode": {
    "name": "ipython",
    "version": 3
   },
   "file_extension": ".py",
   "mimetype": "text/x-python",
   "name": "python",
   "nbconvert_exporter": "python",
   "pygments_lexer": "ipython3",
   "version": "3.9.0"
  }
 },
 "nbformat": 4,
 "nbformat_minor": 4
}

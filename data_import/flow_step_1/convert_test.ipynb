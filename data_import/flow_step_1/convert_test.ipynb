{
 "cells": [
  {
   "cell_type": "code",
   "execution_count": 8,
   "metadata": {},
   "outputs": [],
   "source": [
    "import sys, os\n",
    "import json"
   ]
  },
  {
   "cell_type": "code",
   "execution_count": 6,
   "metadata": {},
   "outputs": [
    {
     "name": "stdout",
     "output_type": "stream",
     "text": [
      "/Users/jeonl/PycharmProjects/JupyterTest/circleci_integration_example/data_import/flow_step_1\n"
     ]
    }
   ],
   "source": [
    "print(os.getcwd())"
   ]
  },
  {
   "cell_type": "code",
   "execution_count": 3,
   "metadata": {},
   "outputs": [
    {
     "name": "stdout",
     "output_type": "stream",
     "text": [
      "total 32\n",
      "drwxr-xr-x  6 jeonl  staff   192 Nov  6 12:35 .\n",
      "drwxr-xr-x  4 jeonl  staff   128 Nov  6 12:20 ..\n",
      "drwxr-xr-x  4 jeonl  staff   128 Nov  6 12:26 .ipynb_checkpoints\n",
      "-rw-r--r--  1 jeonl  staff  1452 Nov  6 12:35 convert_test.ipynb\n",
      "-rw-r--r--  1 jeonl  staff    73 Nov  6 12:20 run.py\n",
      "-rw-r--r--  1 jeonl  staff  4628 Nov  6 12:35 step1.ipynb\n"
     ]
    }
   ],
   "source": [
    "%%bash\n",
    "ls -al"
   ]
  },
  {
   "cell_type": "code",
   "execution_count": null,
   "metadata": {},
   "outputs": [],
   "source": []
  },
  {
   "cell_type": "code",
   "execution_count": null,
   "metadata": {},
   "outputs": [],
   "source": []
  }
 ],
 "metadata": {
  "kernelspec": {
   "display_name": "Python 3",
   "language": "python",
   "name": "python3"
  },
  "language_info": {
   "codemirror_mode": {
    "name": "ipython",
    "version": 3
   },
   "file_extension": ".py",
   "mimetype": "text/x-python",
   "name": "python",
   "nbconvert_exporter": "python",
   "pygments_lexer": "ipython3",
   "version": "3.9.0"
  }
 },
 "nbformat": 4,
 "nbformat_minor": 4
}
